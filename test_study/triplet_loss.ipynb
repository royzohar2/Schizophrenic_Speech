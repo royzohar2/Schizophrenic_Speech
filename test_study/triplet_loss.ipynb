{
 "cells": [
  {
   "cell_type": "code",
   "execution_count": 1,
   "metadata": {
    "pycharm": {
     "is_executing": true,
     "name": "#%%\n"
    }
   },
   "outputs": [
    {
     "name": "stderr",
     "output_type": "stream",
     "text": [
      "/Users/seanlavi/dev/venvs/Schizophrenic_Speech/lib/python3.9/site-packages/transformers/tokenization_utils_base.py:1601: FutureWarning: `clean_up_tokenization_spaces` was not set. It will be set to `True` by default. This behavior will be depracted in transformers v4.45, and will be then set to `False` by default. For more details check this issue: https://github.com/huggingface/transformers/issues/31884\n",
      "  warnings.warn(\n",
      "Some weights of BertModel were not initialized from the model checkpoint at onlplab/alephbert-base and are newly initialized: ['bert.pooler.dense.bias', 'bert.pooler.dense.weight']\n",
      "You should probably TRAIN this model on a down-stream task to be able to use it for predictions and inference.\n",
      "Some weights of BertModel were not initialized from the model checkpoint at onlplab/alephbert-base and are newly initialized: ['bert.pooler.dense.bias', 'bert.pooler.dense.weight']\n",
      "You should probably TRAIN this model on a down-stream task to be able to use it for predictions and inference.\n"
     ]
    }
   ],
   "source": [
    "from sklearn import metrics\n",
    "from sklearn.metrics import accuracy_score\n",
    "from sklearn.svm import LinearSVC\n",
    "from sklearn.neighbors import KNeighborsClassifier\n",
    "import numpy as np\n",
    "import torch\n",
    "from models.siamese import EmbeddingModel, embed_func\n",
    "from sklearn.model_selection import train_test_split\n",
    "import pandas as pd\n",
    "from test_study.coherence.features import TextFeatureExtractor"
   ]
  },
  {
   "cell_type": "code",
   "execution_count": 2,
   "metadata": {
    "collapsed": false,
    "jupyter": {
     "outputs_hidden": false
    },
    "pycharm": {
     "name": "#%%\n"
    }
   },
   "outputs": [
    {
     "name": "stdout",
     "output_type": "stream",
     "text": [
      "Model loaded and ready for inference or further training\n"
     ]
    },
    {
     "name": "stderr",
     "output_type": "stream",
     "text": [
      "/Users/seanlavi/dev/Schizophrenic_Speech/models/siamese.py:65: FutureWarning: You are using `torch.load` with `weights_only=False` (the current default value), which uses the default pickle module implicitly. It is possible to construct malicious pickle data which will execute arbitrary code during unpickling (See https://github.com/pytorch/pytorch/blob/main/SECURITY.md#untrusted-models for more details). In a future release, the default value for `weights_only` will be flipped to `True`. This limits the functions that could be executed during unpickling. Arbitrary objects will no longer be allowed to be loaded via this mode unless they are explicitly allowlisted by the user via `torch.serialization.add_safe_globals`. We recommend you start setting `weights_only=True` for any use case where you don't have full control of the loaded file. Please open an issue on GitHub for any issues related to this experimental feature.\n",
      "  state_dict = torch.load(path)\n"
     ]
    }
   ],
   "source": [
    "feat_extractor = TextFeatureExtractor()\n",
    "data_df = pd.read_csv(\"/Users/seanlavi/dev/Schizophrenic_Speech/data/clean_data.csv\", index_col = False)\n",
    "data_df = feat_extractor.transform_data_to_train_schema(data_df).dropna()\n",
    "train, test = train_test_split(data_df, test_size = 0.2, random_state = 42)\n",
    "model = EmbeddingModel.load_model(\"/Users/seanlavi/dev/Schizophrenic_Speech/models/embedding_model.pth\")"
   ]
  },
  {
   "cell_type": "code",
   "execution_count": 3,
   "metadata": {
    "collapsed": false,
    "jupyter": {
     "outputs_hidden": false
    },
    "pycharm": {
     "name": "#%%\n"
    }
   },
   "outputs": [
    {
     "name": "stderr",
     "output_type": "stream",
     "text": [
      "/var/folders/b1/frm8p4wx2v1_r2r5qhspvnm80000gn/T/ipykernel_14320/1845083558.py:2: UserWarning: To copy construct from a tensor, it is recommended to use sourceTensor.clone().detach() or sourceTensor.clone().detach().requires_grad_(True), rather than torch.tensor(sourceTensor).\n",
      "  train_tensor = torch.tensor(train_embeddings, dtype = torch.float32)\n",
      "/var/folders/b1/frm8p4wx2v1_r2r5qhspvnm80000gn/T/ipykernel_14320/1845083558.py:7: UserWarning: To copy construct from a tensor, it is recommended to use sourceTensor.clone().detach() or sourceTensor.clone().detach().requires_grad_(True), rather than torch.tensor(sourceTensor).\n",
      "  test_tensor = torch.tensor(test_embeddings, dtype = torch.float32)\n",
      "/var/folders/b1/frm8p4wx2v1_r2r5qhspvnm80000gn/T/ipykernel_14320/1845083558.py:13: UserWarning: To copy construct from a tensor, it is recommended to use sourceTensor.clone().detach() or sourceTensor.clone().detach().requires_grad_(True), rather than torch.tensor(sourceTensor).\n",
      "  train_tensor = torch.tensor(train_embeddings, dtype = torch.float32)\n",
      "/var/folders/b1/frm8p4wx2v1_r2r5qhspvnm80000gn/T/ipykernel_14320/1845083558.py:19: UserWarning: To copy construct from a tensor, it is recommended to use sourceTensor.clone().detach() or sourceTensor.clone().detach().requires_grad_(True), rather than torch.tensor(sourceTensor).\n",
      "  test_tensor = torch.tensor(test_embeddings, dtype = torch.float32)\n"
     ]
    }
   ],
   "source": [
    "train_embeddings = embed_func(np.array(train['answer'].values.tolist()))\n",
    "train_tensor = torch.tensor(train_embeddings, dtype = torch.float32)\n",
    "with torch.no_grad():  # Disable gradient calculation for inference\n",
    "    X_train = model(train_tensor)\n",
    "\n",
    "test_embeddings = embed_func(np.array(test['answer'].values.tolist()))\n",
    "test_tensor = torch.tensor(test_embeddings, dtype = torch.float32)\n",
    "\n",
    "with torch.no_grad():\n",
    "    X_test = model(test_tensor)\n",
    "\n",
    "# Convert to tensor\n",
    "train_tensor = torch.tensor(train_embeddings, dtype = torch.float32)\n",
    "\n",
    "# Predict\n",
    "X_train = model.predict(train_tensor)\n",
    "\n",
    "# Similarly for test data\n",
    "test_tensor = torch.tensor(test_embeddings, dtype = torch.float32)\n",
    "X_test = model.predict(test_tensor)\n",
    "\n",
    "y_train = np.array(train['label'].values.tolist())\n",
    "y_test = np.array(test['label'].values.tolist())"
   ]
  },
  {
   "cell_type": "code",
   "execution_count": 4,
   "metadata": {
    "collapsed": false,
    "jupyter": {
     "outputs_hidden": false
    },
    "pycharm": {
     "name": "#%%\n"
    }
   },
   "outputs": [
    {
     "name": "stdout",
     "output_type": "stream",
     "text": [
      "KNN accuracy = 0.8501742160278746, SVM accuracy = 0.8536585365853658\n",
      "              precision    recall  f1-score   support\n",
      "\n",
      "           0       0.84      0.98      0.90       208\n",
      "           1       0.91      0.51      0.65        79\n",
      "\n",
      "    accuracy                           0.85       287\n",
      "   macro avg       0.87      0.74      0.78       287\n",
      "weighted avg       0.86      0.85      0.83       287\n",
      "\n"
     ]
    },
    {
     "name": "stderr",
     "output_type": "stream",
     "text": [
      "huggingface/tokenizers: The current process just got forked, after parallelism has already been used. Disabling parallelism to avoid deadlocks...\n",
      "To disable this warning, you can either:\n",
      "\t- Avoid using `tokenizers` before the fork if possible\n",
      "\t- Explicitly set the environment variable TOKENIZERS_PARALLELISM=(true | false)\n"
     ]
    }
   ],
   "source": [
    "knn = KNeighborsClassifier(n_neighbors = 2, metric = 'euclidean')\n",
    "svc = LinearSVC()\n",
    "\n",
    "knn.fit(X_train, y_train)\n",
    "svc.fit(X_train, y_train)\n",
    "\n",
    "y_pred_knn = knn.predict(X_test)\n",
    "acc_knn = accuracy_score(y_test, y_pred_knn)\n",
    "y_pred_svc = svc.predict(X_test)\n",
    "acc_svc = accuracy_score(y_test, y_pred_svc)\n",
    "\n",
    "print(f'KNN accuracy = {acc_knn}, SVM accuracy = {acc_svc}')\n",
    "print(metrics.classification_report(list(y_test), list(y_pred_knn)))\n"
   ]
  },
  {
   "cell_type": "code",
   "execution_count": null,
   "outputs": [],
   "source": [
    "from sklearn.manifold import TSNE\n",
    "import matplotlib.pyplot as plt\n",
    "\n",
    "X_embedded = TSNE(n_components=2).fit_transform(X_test)\n",
    "\n",
    "plt.figure(figsize=(10,10))\n",
    "\n",
    "for i, t in enumerate(set(y_test)):\n",
    "    idx = y_test == t\n",
    "    plt.scatter(X_embedded[idx, 0], X_embedded[idx, 1], label=t)   \n",
    "\n",
    "plt.legend(bbox_to_anchor=(1, 1));"
   ],
   "metadata": {
    "collapsed": false,
    "pycharm": {
     "name": "#%%\n"
    }
   }
  },
  {
   "cell_type": "code",
   "execution_count": null,
   "outputs": [],
   "source": [],
   "metadata": {
    "collapsed": false,
    "pycharm": {
     "name": "#%%\n"
    }
   }
  },
  {
   "cell_type": "code",
   "execution_count": null,
   "metadata": {},
   "outputs": [],
   "source": []
  }
 ],
 "metadata": {
  "kernelspec": {
   "display_name": "Python 3 (ipykernel)",
   "language": "python",
   "name": "python3"
  },
  "language_info": {
   "codemirror_mode": {
    "name": "ipython",
    "version": 3
   },
   "file_extension": ".py",
   "mimetype": "text/x-python",
   "name": "python",
   "nbconvert_exporter": "python",
   "pygments_lexer": "ipython3",
   "version": "3.9.19"
  }
 },
 "nbformat": 4,
 "nbformat_minor": 4
}