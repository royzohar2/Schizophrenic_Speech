{
 "cells": [
  {
   "cell_type": "code",
   "execution_count": null,
   "outputs": [],
   "source": [
    "import pandas as pd\n",
    "import seaborn as sns\n",
    "import matplotlib.pyplot as plt\n",
    "from scipy.stats import ttest_ind\n",
    "from sklearn.linear_model import LogisticRegression\n",
    "from sklearn.feature_selection import RFE\n",
    "from sklearn.preprocessing import StandardScaler\n",
    "from sklearn.metrics import classification_report\n",
    "import numpy as np\n",
    "import ast\n",
    "import json"
   ],
   "metadata": {
    "collapsed": false,
    "pycharm": {
     "name": "#%%\n"
    }
   }
  },
  {
   "cell_type": "code",
   "execution_count": null,
   "outputs": [],
   "source": [
    "file_path = \"/Users/seanlavi/dev/Schizophrenic_Speech/data/word_pred_llm.json\"\n",
    "with open(file_path, 'r', encoding = 'utf-8') as f:\n",
    "    data_js = json.load(f)"
   ],
   "metadata": {
    "collapsed": false,
    "pycharm": {
     "name": "#%%\n"
    }
   }
  },
  {
   "cell_type": "code",
   "execution_count": null,
   "outputs": [],
   "source": [
    "data_js"
   ],
   "metadata": {
    "collapsed": false,
    "pycharm": {
     "name": "#%%\n"
    }
   }
  },
  {
   "cell_type": "code",
   "execution_count": null,
   "outputs": [],
   "source": [],
   "metadata": {
    "collapsed": false,
    "pycharm": {
     "name": "#%%\n"
    }
   }
  },
  {
   "cell_type": "code",
   "execution_count": null,
   "outputs": [],
   "source": [
    "for item in data_js:\n",
    "    file_name = item['file_name']\n",
    "    label = item['label']\n",
    "    \n",
    "    for question, vector in item['questions'].items():\n",
    "        mean_value = np.mean(vector[1:])  # Calculate mean of the vector\n",
    "        df_rows.append({\n",
    "            'file_name': file_name,\n",
    "            'label': label,\n",
    "            'question': question,\n",
    "            'mean_vector': mean_value\n",
    "        })\n",
    "\n",
    "# Create the DataFrame\n",
    "df = pd.DataFrame(df_rows).dropna()"
   ],
   "metadata": {
    "collapsed": false,
    "pycharm": {
     "name": "#%%\n"
    }
   }
  },
  {
   "cell_type": "code",
   "execution_count": null,
   "outputs": [],
   "source": [
    "df.head()"
   ],
   "metadata": {
    "collapsed": false,
    "pycharm": {
     "name": "#%%\n"
    }
   }
  },
  {
   "cell_type": "code",
   "execution_count": null,
   "outputs": [],
   "source": [
    "total_nan = df.isna().sum().sum()\n",
    "print(f\"Total NaN records in DataFrame: {total_nan}\")"
   ],
   "metadata": {
    "collapsed": false,
    "pycharm": {
     "name": "#%%\n"
    }
   }
  },
  {
   "cell_type": "code",
   "execution_count": null,
   "outputs": [],
   "source": [
    "def detect_outliers_tukey(df, column):\n",
    "    \"\"\"\n",
    "    Detect outliers in a column using the Tukey method.\n",
    "    \n",
    "    Parameters:\n",
    "        df (pd.DataFrame): The DataFrame containing the data.\n",
    "        column (str): The column name to detect outliers in.\n",
    "    \n",
    "    Returns:\n",
    "        pd.Series: A boolean series indicating if a row is an outlier based on the column.\n",
    "    \"\"\"\n",
    "    Q1 = df[column].quantile(0.25)\n",
    "    Q3 = df[column].quantile(0.75)\n",
    "    IQR = Q3 - Q1\n",
    "    lower_bound = Q1 - 1.5 * IQR\n",
    "    upper_bound = Q3 + 1.5 * IQR\n",
    "\n",
    "    outliers = (df[column] < lower_bound) | (df[column] > upper_bound)\n",
    "    return outliers\n",
    "\n",
    "# Apply the function to detect outliers in each column you are interested in\n",
    "outliers_df = pd.DataFrame()\n",
    "for column in ['mean_vector']:  # replace with your columns of interest\n",
    "    outliers_df[column] = detect_outliers_tukey(df, column)\n",
    "\n",
    "# Exclude rows where any column has an outlier\n",
    "df_without_outliers = df[~outliers_df.any(axis=1)]\n",
    "print(\"DataFrame without outliers based on the Tukey method:\")\n",
    "df_without_outliers\n"
   ],
   "metadata": {
    "collapsed": false,
    "pycharm": {
     "name": "#%%\n"
    }
   }
  },
  {
   "cell_type": "code",
   "execution_count": null,
   "outputs": [],
   "source": [
    "import pandas as pd\n",
    "import numpy as np\n",
    "import matplotlib.pyplot as plt\n",
    "import seaborn as sns\n",
    "from sklearn.preprocessing import MinMaxScaler\n",
    "\n",
    "# Assuming 'df' is already created from the previous code\n",
    "\n",
    "# Initialize MinMaxScaler\n",
    "scaler = MinMaxScaler()\n",
    "\n",
    "# Normalize the 'mean_vector' column\n",
    "df_without_outliers['normalized_mean_vector'] = scaler.fit_transform(df_without_outliers[['mean_vector']])\n",
    "\n",
    "# Plotting Box Plots with Normalized Data\n",
    "plt.figure(figsize=(7, 6))\n",
    "sns.boxplot(x='label', y='normalized_mean_vector', data=df_without_outliers)\n",
    "plt.title('Box plot of Normalized Mean Vector')\n",
    "plt.xlabel('Label')\n",
    "plt.ylabel('Normalized Mean Vector')\n",
    "\n",
    "plt.tight_layout()\n",
    "plt.show()\n"
   ],
   "metadata": {
    "collapsed": false,
    "pycharm": {
     "name": "#%%\n"
    }
   }
  },
  {
   "cell_type": "code",
   "execution_count": null,
   "outputs": [],
   "source": [
    "# Plotting Histograms\n",
    "# Separate into two groups based on label\n",
    "schizo_group = df_without_outliers[df_without_outliers['label'] == 1]\n",
    "regular_group = df_without_outliers[df_without_outliers['label'] == 0]\n",
    "plt.figure(figsize=(14, 6))\n",
    "for i, column in enumerate(['mean_vector']):\n",
    "    plt.subplot(1, 3, i+1)\n",
    "    sns.histplot(schizo_group[column], color='red', label='Schizophrenic', kde=True, stat=\"density\", linewidth=0)\n",
    "    sns.histplot(regular_group[column], color='blue', label='Regular', kde=True, stat=\"density\", linewidth=0)\n",
    "    plt.title(f'Histogram of {column}')\n",
    "    plt.legend()\n",
    "\n",
    "plt.tight_layout()\n",
    "plt.show()\n"
   ],
   "metadata": {
    "collapsed": false,
    "pycharm": {
     "name": "#%%\n"
    }
   }
  },
  {
   "cell_type": "code",
   "execution_count": null,
   "outputs": [],
   "source": [
    "# T-Tests\n",
    "t_test_results = {}\n",
    "for column in ['mean_vector']:\n",
    "    t_stat, p_value = ttest_ind(schizo_group[column], regular_group[column])\n",
    "    t_test_results[column] = (t_stat, p_value)\n",
    "\n",
    "# Display T-Test results\n",
    "for feature, (t_stat, p_value) in t_test_results.items():\n",
    "    print(f\"\\nT-Test for {feature}:\")\n",
    "    print(f\"T-statistic: {t_stat:.4f}, P-value: {p_value:.4f}\")\n",
    "    \n",
    "    # Null Hypothesis statement\n",
    "    print(f\"Null Hypothesis: There is no significant difference in the mean {feature} between schizophrenic and regular persons.\")\n",
    "    \n",
    "    # Interpret results\n",
    "    if p_value < 0.05:\n",
    "        print(\"Result: Reject the null hypothesis. There is a statistically significant difference.\")\n",
    "    else:\n",
    "        print(\"Result: Fail to reject the null hypothesis. There is no statistically significant difference.\")\n"
   ],
   "metadata": {
    "collapsed": false,
    "pycharm": {
     "name": "#%%\n"
    }
   }
  },
  {
   "cell_type": "code",
   "execution_count": null,
   "outputs": [],
   "source": [
    "from sklearn.model_selection import train_test_split\n",
    "from sklearn.preprocessing import StandardScaler\n",
    "from sklearn.linear_model import LogisticRegression\n",
    "from sklearn.feature_selection import RFE\n",
    "from sklearn.metrics import classification_report\n",
    "\n",
    "# Prepare data for logistic regression\n",
    "features = ['mean_vector']\n",
    "X = df_without_outliers[features]\n",
    "y = df_without_outliers['label']\n",
    "\n",
    "# Split the data into training and testing sets\n",
    "X_train, X_test, y_train, y_test = train_test_split(X, y, test_size=0.2, random_state=42)\n",
    "\n",
    "# Standardize features\n",
    "scaler = StandardScaler()\n",
    "X_train_scaled = scaler.fit_transform(X_train)\n",
    "X_test_scaled = scaler.transform(X_test)\n",
    "\n",
    "# Logistic Regression\n",
    "log_reg = LogisticRegression()\n",
    "log_reg.fit(X_train_scaled, y_train)\n",
    "\n",
    "# Classification Report on Test Data\n",
    "y_pred = log_reg.predict(X_test_scaled)\n",
    "print(\"\\nClassification Report:\")\n",
    "print(classification_report(y_test, y_pred))"
   ],
   "metadata": {
    "collapsed": false,
    "pycharm": {
     "name": "#%%\n"
    }
   }
  },
  {
   "cell_type": "code",
   "execution_count": null,
   "outputs": [],
   "source": [
    "from scipy.stats import pointbiserialr\n",
    "\n",
    "# Assuming 'label' is your binary target variable\n",
    "y = df['label']\n",
    "\n",
    "# Dictionary to store results\n",
    "pointbiserial_results = {}\n",
    "\n",
    "# Loop through each feature column\n",
    "for column in df.columns:\n",
    "    if column in {'mean_tf_idf_seg_txt', \"mean_tf_idf_tok_txt\", \"mean_count_vec\"}:\n",
    "        X = df[column]\n",
    "        corr, p_value = pointbiserialr(y, X)\n",
    "        pointbiserial_results[column] = (corr, p_value)\n",
    "\n",
    "# Print results\n",
    "for feature, (corr, p_value) in pointbiserial_results.items():\n",
    "    print(f\"Point-Biserial Correlation for {feature}: Corr={corr:.4f}, P-value={p_value:.4f}\")\n"
   ],
   "metadata": {
    "collapsed": false,
    "pycharm": {
     "name": "#%%\n"
    }
   }
  },
  {
   "cell_type": "code",
   "execution_count": null,
   "metadata": {
    "pycharm": {
     "name": "#%%\n"
    }
   },
   "outputs": [],
   "source": []
  },
  {
   "cell_type": "code",
   "execution_count": 33,
   "metadata": {
    "pycharm": {
     "name": "#%%\n"
    }
   },
   "outputs": [
    {
     "name": "stderr",
     "output_type": "stream",
     "text": [
      "/Users/seanlavi/dev/venvs/Schizophrenic_Speech/lib/python3.9/site-packages/numpy/core/fromnumeric.py:3504: RuntimeWarning: Mean of empty slice.\n",
      "  return _methods._mean(a, axis=axis, dtype=dtype,\n",
      "/Users/seanlavi/dev/venvs/Schizophrenic_Speech/lib/python3.9/site-packages/numpy/core/_methods.py:129: RuntimeWarning: invalid value encountered in scalar divide\n",
      "  ret = ret.dtype.type(ret / rcount)\n"
     ]
    }
   ],
   "source": [
    "for item in data_js:\n",
    "    file_name = item['file_name']\n",
    "    label = item['label']\n",
    "    \n",
    "    for question, vector in item['questions'].items():\n",
    "        mean_value = np.mean(vector[1:])  # Calculate mean of the vector\n",
    "        df_rows.append({\n",
    "            'file_name': file_name,\n",
    "            'label': label,\n",
    "            'question': question,\n",
    "            'mean_vector': mean_value\n",
    "        })\n",
    "\n",
    "# Create the DataFrame\n",
    "df = pd.DataFrame(df_rows).dropna()"
   ]
  },
  {
   "cell_type": "code",
   "execution_count": 34,
   "metadata": {
    "pycharm": {
     "name": "#%%\n"
    }
   },
   "outputs": [
    {
     "data": {
      "text/html": [
       "<div>\n",
       "<style scoped>\n",
       "    .dataframe tbody tr th:only-of-type {\n",
       "        vertical-align: middle;\n",
       "    }\n",
       "\n",
       "    .dataframe tbody tr th {\n",
       "        vertical-align: top;\n",
       "    }\n",
       "\n",
       "    .dataframe thead th {\n",
       "        text-align: right;\n",
       "    }\n",
       "</style>\n",
       "<table border=\"1\" class=\"dataframe\">\n",
       "  <thead>\n",
       "    <tr style=\"text-align: right;\">\n",
       "      <th></th>\n",
       "      <th>file_name</th>\n",
       "      <th>label</th>\n",
       "      <th>question</th>\n",
       "      <th>mean_vector</th>\n",
       "    </tr>\n",
       "  </thead>\n",
       "  <tbody>\n",
       "    <tr>\n",
       "      <th>0</th>\n",
       "      <td>ש16.docx</td>\n",
       "      <td>0</td>\n",
       "      <td>תמונה 1</td>\n",
       "      <td>2608.763636</td>\n",
       "    </tr>\n",
       "    <tr>\n",
       "      <th>1</th>\n",
       "      <td>ש16.docx</td>\n",
       "      <td>0</td>\n",
       "      <td>תמונה 2</td>\n",
       "      <td>2622.632653</td>\n",
       "    </tr>\n",
       "    <tr>\n",
       "      <th>2</th>\n",
       "      <td>ש16.docx</td>\n",
       "      <td>0</td>\n",
       "      <td>תמונה 3</td>\n",
       "      <td>2036.913043</td>\n",
       "    </tr>\n",
       "    <tr>\n",
       "      <th>3</th>\n",
       "      <td>ש16.docx</td>\n",
       "      <td>0</td>\n",
       "      <td>תמונה 4</td>\n",
       "      <td>2647.740000</td>\n",
       "    </tr>\n",
       "    <tr>\n",
       "      <th>4</th>\n",
       "      <td>ש16.docx</td>\n",
       "      <td>0</td>\n",
       "      <td>תמונה 5</td>\n",
       "      <td>1782.945455</td>\n",
       "    </tr>\n",
       "  </tbody>\n",
       "</table>\n",
       "</div>"
      ],
      "text/plain": [
       "  file_name  label question  mean_vector\n",
       "0  ש16.docx      0  תמונה 1  2608.763636\n",
       "1  ש16.docx      0  תמונה 2  2622.632653\n",
       "2  ש16.docx      0  תמונה 3  2036.913043\n",
       "3  ש16.docx      0  תמונה 4  2647.740000\n",
       "4  ש16.docx      0  תמונה 5  1782.945455"
      ]
     },
     "execution_count": 34,
     "metadata": {},
     "output_type": "execute_result"
    }
   ],
   "source": [
    "df.head()"
   ]
  },
  {
   "cell_type": "code",
   "execution_count": 35,
   "metadata": {
    "pycharm": {
     "name": "#%%\n"
    }
   },
   "outputs": [
    {
     "name": "stdout",
     "output_type": "stream",
     "text": [
      "Total NaN records in DataFrame: 0\n"
     ]
    }
   ],
   "source": [
    "total_nan = df.isna().sum().sum()\n",
    "print(f\"Total NaN records in DataFrame: {total_nan}\")"
   ]
  },
  {
   "cell_type": "code",
   "execution_count": 43,
   "metadata": {
    "pycharm": {
     "name": "#%%\n"
    }
   },
   "outputs": [
    {
     "name": "stdout",
     "output_type": "stream",
     "text": [
      "DataFrame without outliers based on the Tukey method:\n"
     ]
    },
    {
     "data": {
      "text/html": [
       "<div>\n",
       "<style scoped>\n",
       "    .dataframe tbody tr th:only-of-type {\n",
       "        vertical-align: middle;\n",
       "    }\n",
       "\n",
       "    .dataframe tbody tr th {\n",
       "        vertical-align: top;\n",
       "    }\n",
       "\n",
       "    .dataframe thead th {\n",
       "        text-align: right;\n",
       "    }\n",
       "</style>\n",
       "<table border=\"1\" class=\"dataframe\">\n",
       "  <thead>\n",
       "    <tr style=\"text-align: right;\">\n",
       "      <th></th>\n",
       "      <th>file_name</th>\n",
       "      <th>label</th>\n",
       "      <th>question</th>\n",
       "      <th>mean_vector</th>\n",
       "      <th>normalized_mean_vector</th>\n",
       "    </tr>\n",
       "  </thead>\n",
       "  <tbody>\n",
       "    <tr>\n",
       "      <th>0</th>\n",
       "      <td>ש16.docx</td>\n",
       "      <td>0</td>\n",
       "      <td>תמונה 1</td>\n",
       "      <td>2608.763636</td>\n",
       "      <td>0.034413</td>\n",
       "    </tr>\n",
       "    <tr>\n",
       "      <th>1</th>\n",
       "      <td>ש16.docx</td>\n",
       "      <td>0</td>\n",
       "      <td>תמונה 2</td>\n",
       "      <td>2622.632653</td>\n",
       "      <td>0.034696</td>\n",
       "    </tr>\n",
       "    <tr>\n",
       "      <th>2</th>\n",
       "      <td>ש16.docx</td>\n",
       "      <td>0</td>\n",
       "      <td>תמונה 3</td>\n",
       "      <td>2036.913043</td>\n",
       "      <td>0.022758</td>\n",
       "    </tr>\n",
       "    <tr>\n",
       "      <th>3</th>\n",
       "      <td>ש16.docx</td>\n",
       "      <td>0</td>\n",
       "      <td>תמונה 4</td>\n",
       "      <td>2647.740000</td>\n",
       "      <td>0.035208</td>\n",
       "    </tr>\n",
       "    <tr>\n",
       "      <th>4</th>\n",
       "      <td>ש16.docx</td>\n",
       "      <td>0</td>\n",
       "      <td>תמונה 5</td>\n",
       "      <td>1782.945455</td>\n",
       "      <td>0.017581</td>\n",
       "    </tr>\n",
       "    <tr>\n",
       "      <th>...</th>\n",
       "      <td>...</td>\n",
       "      <td>...</td>\n",
       "      <td>...</td>\n",
       "      <td>...</td>\n",
       "      <td>...</td>\n",
       "    </tr>\n",
       "    <tr>\n",
       "      <th>4315</th>\n",
       "      <td>יפ9.docx</td>\n",
       "      <td>1</td>\n",
       "      <td>תמונה 14</td>\n",
       "      <td>3247.478261</td>\n",
       "      <td>0.047432</td>\n",
       "    </tr>\n",
       "    <tr>\n",
       "      <th>4316</th>\n",
       "      <td>יפ9.docx</td>\n",
       "      <td>1</td>\n",
       "      <td>בר מצווה</td>\n",
       "      <td>2695.510638</td>\n",
       "      <td>0.036181</td>\n",
       "    </tr>\n",
       "    <tr>\n",
       "      <th>4317</th>\n",
       "      <td>יפ9.docx</td>\n",
       "      <td>1</td>\n",
       "      <td>מה אוהב לעשות</td>\n",
       "      <td>4786.578947</td>\n",
       "      <td>0.078802</td>\n",
       "    </tr>\n",
       "    <tr>\n",
       "      <th>4318</th>\n",
       "      <td>יפ9.docx</td>\n",
       "      <td>1</td>\n",
       "      <td>מה מעצבן</td>\n",
       "      <td>3077.318182</td>\n",
       "      <td>0.043963</td>\n",
       "    </tr>\n",
       "    <tr>\n",
       "      <th>4319</th>\n",
       "      <td>יפ9.docx</td>\n",
       "      <td>1</td>\n",
       "      <td>משאלות לעתיד</td>\n",
       "      <td>2976.961538</td>\n",
       "      <td>0.041918</td>\n",
       "    </tr>\n",
       "  </tbody>\n",
       "</table>\n",
       "<p>4172 rows × 5 columns</p>\n",
       "</div>"
      ],
      "text/plain": [
       "     file_name  label       question  mean_vector  normalized_mean_vector\n",
       "0     ש16.docx      0        תמונה 1  2608.763636                0.034413\n",
       "1     ש16.docx      0        תמונה 2  2622.632653                0.034696\n",
       "2     ש16.docx      0        תמונה 3  2036.913043                0.022758\n",
       "3     ש16.docx      0        תמונה 4  2647.740000                0.035208\n",
       "4     ש16.docx      0        תמונה 5  1782.945455                0.017581\n",
       "...        ...    ...            ...          ...                     ...\n",
       "4315  יפ9.docx      1       תמונה 14  3247.478261                0.047432\n",
       "4316  יפ9.docx      1       בר מצווה  2695.510638                0.036181\n",
       "4317  יפ9.docx      1  מה אוהב לעשות  4786.578947                0.078802\n",
       "4318  יפ9.docx      1       מה מעצבן  3077.318182                0.043963\n",
       "4319  יפ9.docx      1   משאלות לעתיד  2976.961538                0.041918\n",
       "\n",
       "[4172 rows x 5 columns]"
      ]
     },
     "execution_count": 43,
     "metadata": {},
     "output_type": "execute_result"
    }
   ],
   "source": [
    "def detect_outliers_tukey(df, column):\n",
    "    \"\"\"\n",
    "    Detect outliers in a column using the Tukey method.\n",
    "    \n",
    "    Parameters:\n",
    "        df (pd.DataFrame): The DataFrame containing the data.\n",
    "        column (str): The column name to detect outliers in.\n",
    "    \n",
    "    Returns:\n",
    "        pd.Series: A boolean series indicating if a row is an outlier based on the column.\n",
    "    \"\"\"\n",
    "    Q1 = df[column].quantile(0.25)\n",
    "    Q3 = df[column].quantile(0.75)\n",
    "    IQR = Q3 - Q1\n",
    "    lower_bound = Q1 - 1.5 * IQR\n",
    "    upper_bound = Q3 + 1.5 * IQR\n",
    "\n",
    "    outliers = (df[column] < lower_bound) | (df[column] > upper_bound)\n",
    "    return outliers\n",
    "\n",
    "# Apply the function to detect outliers in each column you are interested in\n",
    "outliers_df = pd.DataFrame()\n",
    "for column in ['mean_vector']:  # replace with your columns of interest\n",
    "    outliers_df[column] = detect_outliers_tukey(df, column)\n",
    "\n",
    "# Exclude rows where any column has an outlier\n",
    "df_without_outliers = df[~outliers_df.any(axis=1)]\n",
    "print(\"DataFrame without outliers based on the Tukey method:\")\n",
    "df_without_outliers\n"
   ]
  },
  {
   "cell_type": "code",
   "execution_count": 45,
   "metadata": {
    "pycharm": {
     "name": "#%%\n"
    }
   },
   "outputs": [
    {
     "name": "stderr",
     "output_type": "stream",
     "text": [
      "/var/folders/b1/frm8p4wx2v1_r2r5qhspvnm80000gn/T/ipykernel_9694/1663753649.py:13: SettingWithCopyWarning: \n",
      "A value is trying to be set on a copy of a slice from a DataFrame.\n",
      "Try using .loc[row_indexer,col_indexer] = value instead\n",
      "\n",
      "See the caveats in the documentation: https://pandas.pydata.org/pandas-docs/stable/user_guide/indexing.html#returning-a-view-versus-a-copy\n",
      "  df_without_outliers['normalized_mean_vector'] = scaler.fit_transform(df_without_outliers[['mean_vector']])\n"
     ]
    },
    {
     "data": {
      "image/png": "[encoded data removed]",
      "text/plain": [
       "<Figure size 700x600 with 1 Axes>"
      ]
     },
     "metadata": {},
     "output_type": "display_data"
    }
   ],
   "source": [
    "import pandas as pd\n",
    "import numpy as np\n",
    "import matplotlib.pyplot as plt\n",
    "import seaborn as sns\n",
    "from sklearn.preprocessing import MinMaxScaler\n",
    "\n",
    "# Assuming 'df' is already created from the previous code\n",
    "\n",
    "# Initialize MinMaxScaler\n",
    "scaler = MinMaxScaler()\n",
    "\n",
    "# Normalize the 'mean_vector' column\n",
    "df_without_outliers['normalized_mean_vector'] = scaler.fit_transform(df_without_outliers[['mean_vector']])\n",
    "\n",
    "# Plotting Box Plots with Normalized Data\n",
    "plt.figure(figsize=(7, 6))\n",
    "sns.boxplot(x='label', y='normalized_mean_vector', data=df_without_outliers)\n",
    "plt.title('Box plot of Normalized Mean Vector')\n",
    "plt.xlabel('Label')\n",
    "plt.ylabel('Normalized Mean Vector')\n",
    "\n",
    "plt.tight_layout()\n",
    "plt.show()\n"
   ]
  },
  {
   "cell_type": "code",
   "execution_count": 46,
   "metadata": {
    "pycharm": {
     "name": "#%%\n"
    }
   },
   "outputs": [
    {
     "data": {
      "image/png": "[encoded data removed]",
      "text/plain": [
       "<Figure size 1400x600 with 1 Axes>"
      ]
     },
     "metadata": {},
     "output_type": "display_data"
    }
   ],
   "source": [
    "# Plotting Histograms\n",
    "# Separate into two groups based on label\n",
    "schizo_group = df_without_outliers[df_without_outliers['label'] == 1]\n",
    "regular_group = df_without_outliers[df_without_outliers['label'] == 0]\n",
    "plt.figure(figsize=(14, 6))\n",
    "for i, column in enumerate(['mean_vector']):\n",
    "    plt.subplot(1, 3, i+1)\n",
    "    sns.histplot(schizo_group[column], color='red', label='Schizophrenic', kde=True, stat=\"density\", linewidth=0)\n",
    "    sns.histplot(regular_group[column], color='blue', label='Regular', kde=True, stat=\"density\", linewidth=0)\n",
    "    plt.title(f'Histogram of {column}')\n",
    "    plt.legend()\n",
    "\n",
    "plt.tight_layout()\n",
    "plt.show()\n"
   ]
  },
  {
   "cell_type": "code",
   "execution_count": 48,
   "metadata": {
    "pycharm": {
     "name": "#%%\n"
    }
   },
   "outputs": [
    {
     "name": "stdout",
     "output_type": "stream",
     "text": [
      "\n",
      "T-Test for mean_vector:\n",
      "T-statistic: 16.2332, P-value: 0.0000\n",
      "Null Hypothesis: There is no significant difference in the mean mean_vector between schizophrenic and regular persons.\n",
      "Result: Reject the null hypothesis. There is a statistically significant difference.\n"
     ]
    }
   ],
   "source": [
    "# T-Tests\n",
    "t_test_results = {}\n",
    "for column in ['mean_vector']:\n",
    "    t_stat, p_value = ttest_ind(schizo_group[column], regular_group[column])\n",
    "    t_test_results[column] = (t_stat, p_value)\n",
    "\n",
    "# Display T-Test results\n",
    "for feature, (t_stat, p_value) in t_test_results.items():\n",
    "    print(f\"\\nT-Test for {feature}:\")\n",
    "    print(f\"T-statistic: {t_stat:.4f}, P-value: {p_value:.4f}\")\n",
    "    \n",
    "    # Null Hypothesis statement\n",
    "    print(f\"Null Hypothesis: There is no significant difference in the mean {feature} between schizophrenic and regular persons.\")\n",
    "    \n",
    "    # Interpret results\n",
    "    if p_value < 0.05:\n",
    "        print(\"Result: Reject the null hypothesis. There is a statistically significant difference.\")\n",
    "    else:\n",
    "        print(\"Result: Fail to reject the null hypothesis. There is no statistically significant difference.\")\n"
   ]
  },
  {
   "cell_type": "code",
   "execution_count": 50,
   "metadata": {
    "pycharm": {
     "name": "#%%\n"
    }
   },
   "outputs": [
    {
     "name": "stdout",
     "output_type": "stream",
     "text": [
      "\n",
      "Classification Report:\n",
      "              precision    recall  f1-score   support\n",
      "\n",
      "           0       0.77      0.98      0.86       630\n",
      "           1       0.57      0.08      0.14       205\n",
      "\n",
      "    accuracy                           0.76       835\n",
      "   macro avg       0.67      0.53      0.50       835\n",
      "weighted avg       0.72      0.76      0.68       835\n",
      "\n"
     ]
    }
   ],
   "source": [
    "from sklearn.model_selection import train_test_split\n",
    "from sklearn.preprocessing import StandardScaler\n",
    "from sklearn.linear_model import LogisticRegression\n",
    "from sklearn.feature_selection import RFE\n",
    "from sklearn.metrics import classification_report\n",
    "\n",
    "# Prepare data for logistic regression\n",
    "features = ['mean_vector']\n",
    "X = df_without_outliers[features]\n",
    "y = df_without_outliers['label']\n",
    "\n",
    "# Split the data into training and testing sets\n",
    "X_train, X_test, y_train, y_test = train_test_split(X, y, test_size=0.2, random_state=42)\n",
    "\n",
    "# Standardize features\n",
    "scaler = StandardScaler()\n",
    "X_train_scaled = scaler.fit_transform(X_train)\n",
    "X_test_scaled = scaler.transform(X_test)\n",
    "\n",
    "# Logistic Regression\n",
    "log_reg = LogisticRegression()\n",
    "log_reg.fit(X_train_scaled, y_train)\n",
    "\n",
    "# Classification Report on Test Data\n",
    "y_pred = log_reg.predict(X_test_scaled)\n",
    "print(\"\\nClassification Report:\")\n",
    "print(classification_report(y_test, y_pred))"
   ]
  },
  {
   "cell_type": "code",
   "execution_count": null,
   "metadata": {
    "pycharm": {
     "name": "#%%\n"
    }
   },
   "outputs": [],
   "source": [
    "from scipy.stats import pointbiserialr\n",
    "\n",
    "# Assuming 'label' is your binary target variable\n",
    "y = df['label']\n",
    "\n",
    "# Dictionary to store results\n",
    "pointbiserial_results = {}\n",
    "\n",
    "# Loop through each feature column\n",
    "for column in df.columns:\n",
    "    if column in {'mean_tf_idf_seg_txt', \"mean_tf_idf_tok_txt\", \"mean_count_vec\"}:\n",
    "        X = df[column]\n",
    "        corr, p_value = pointbiserialr(y, X)\n",
    "        pointbiserial_results[column] = (corr, p_value)\n",
    "\n",
    "# Print results\n",
    "for feature, (corr, p_value) in pointbiserial_results.items():\n",
    "    print(f\"Point-Biserial Correlation for {feature}: Corr={corr:.4f}, P-value={p_value:.4f}\")\n"
   ]
  }
 ],
 "metadata": {
  "kernelspec": {
   "display_name": "Python 3 (ipykernel)",
   "language": "python",
   "name": "python3"
  },
  "language_info": {
   "codemirror_mode": {
    "name": "ipython",
    "version": 3
   },
   "file_extension": ".py",
   "mimetype": "text/x-python",
   "name": "python",
   "nbconvert_exporter": "python",
   "pygments_lexer": "ipython3",
   "version": "3.9.19"
  }
 },
 "nbformat": 4,
 "nbformat_minor": 4
}