{
 "cells": [
  {
   "cell_type": "code",
   "execution_count": null,
   "metadata": {
    "pycharm": {
     "name": "#%%\n"
    }
   },
   "outputs": [],
   "source": [
    "import pandas as pd\n",
    "import json"
   ]
  },
  {
   "cell_type": "code",
   "execution_count": null,
   "metadata": {
    "pycharm": {
     "name": "#%%\n"
    }
   },
   "outputs": [],
   "source": [
    "from infra.data_loader import DataLoader\n",
    "\n",
    "data_loader = DataLoader('Data')  # Update with your data directory\n",
    "data_loader.load_data()\n",
    "df = data_loader.get_dataframe()\n",
    "\n",
    "# Display the DataFrame\n",
    "df.head(35)"
   ]
  },
  {
   "cell_type": "code",
   "execution_count": null,
   "metadata": {
    "pycharm": {
     "name": "#%%\n"
    }
   },
   "outputs": [],
   "source": [
    "df.columns"
   ]
  },
  {
   "cell_type": "code",
   "execution_count": null,
   "metadata": {
    "pycharm": {
     "name": "#%%\n"
    }
   },
   "outputs": [],
   "source": [
    "df['בר מצווה'][78]"
   ]
  },
  {
   "cell_type": "code",
   "execution_count": null,
   "metadata": {
    "pycharm": {
     "name": "#%%\n"
    }
   },
   "outputs": [],
   "source": [
    "def load_json_data(file_path):\n",
    "    \"\"\"Load data from a JSON file and return it as a Python object.\"\"\"\n",
    "    with open(file_path, 'r', encoding='utf-8') as f:\n",
    "        data = json.load(f)\n",
    "    return data\n",
    "\n",
    "def display_sample_data(data, num_samples=5):\n",
    "    \"\"\"Display a sample of the data.\"\"\"\n",
    "    for i, entry in enumerate(data[:num_samples]):\n",
    "        print(f\"Sample {i+1}:\")\n",
    "        print(f\"File Name: {entry['file_name']}\")\n",
    "        print(f\"Label: {entry['label']}\")\n",
    "        for question, scores in entry['questions'].items():\n",
    "            print(f\"  {question}: {scores}\")\n",
    "        print()\n",
    "\n",
    "# Load the JSON data\n",
    "data_file = \"Data/word_pred_llm.json\"\n",
    "data = load_json_data(data_file)\n",
    "\n",
    "# Display a sample of the loaded data\n",
    "display_sample_data(data)"
   ]
  },
  {
   "cell_type": "code",
   "execution_count": null,
   "metadata": {
    "pycharm": {
     "name": "#%%\n"
    }
   },
   "outputs": [],
   "source": [
    "data[0]['questions'][\"תמונה 1\"][0]"
   ]
  },
  {
   "cell_type": "code",
   "execution_count": null,
   "metadata": {
    "pycharm": {
     "name": "#%%\n"
    }
   },
   "outputs": [],
   "source": []
  }
 ],
 "metadata": {
  "kernelspec": {
   "display_name": "Schizophrenic_Speech",
   "language": "python",
   "name": "python3"
  },
  "language_info": {
   "codemirror_mode": {
    "name": "ipython",
    "version": 3
   },
   "file_extension": ".py",
   "mimetype": "text/x-python",
   "name": "python",
   "nbconvert_exporter": "python",
   "pygments_lexer": "ipython3",
   "version": "3.11.5"
  },
  "orig_nbformat": 4
 },
 "nbformat": 4,
 "nbformat_minor": 2
}