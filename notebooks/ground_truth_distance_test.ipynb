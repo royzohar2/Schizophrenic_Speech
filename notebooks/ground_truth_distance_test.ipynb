{
 "cells": [
  {
   "cell_type": "code",
   "execution_count": 1,
   "metadata": {
    "pycharm": {
     "name": "#%%\n"
    }
   },
   "outputs": [],
   "source": []
  },
  {
   "cell_type": "code",
   "execution_count": 1,
   "metadata": {
    "pycharm": {
     "is_executing": true,
     "name": "#%%\n"
    }
   },
   "outputs": [],
   "source": [
    "import pandas as pd \n",
    "import numpy as np\n",
    "import seaborn as sns\n",
    "import matplotlib.pyplot as plt\n",
    "from scipy.stats import ttest_ind\n",
    "from sklearn.metrics import confusion_matrix, roc_curve, roc_auc_score, classification_report\n",
    "from sklearn.model_selection import train_test_split\n",
    "\n"
   ]
  },
  {
   "cell_type": "code",
   "execution_count": 2,
   "metadata": {
    "pycharm": {
     "name": "#%%\n"
    }
   },
   "outputs": [],
   "source": [
    "import sys\n",
    "import os\n",
    "\n",
    "# Get the parent directory of the current file (notebook)\n",
    "parent_dir = os.path.abspath(os.path.join(os.getcwd(), '..'))\n",
    "# Add the parent directory to sys.path\n",
    "sys.path.append(parent_dir)\n",
    "from infra.data_loader import DataLoader\n",
    "data_loader_test = DataLoader('')\n",
    "content = data_loader_test._read_docx(f'{parent_dir}/data/תיאור התמונות.docx')\n",
    "data = data_loader_test._extract_data(content)\n",
    "\n",
    "distances_df = pd.read_csv(f\"{parent_dir}/data/ground_truth_distances.csv\")"
   ]
  },
  {
   "cell_type": "code",
   "execution_count": 3,
   "metadata": {
    "pycharm": {
     "name": "#%%\n"
    }
   },
   "outputs": [
    {
     "data": {
      "text/html": [
       "<div>\n",
       "<style scoped>\n",
       "    .dataframe tbody tr th:only-of-type {\n",
       "        vertical-align: middle;\n",
       "    }\n",
       "\n",
       "    .dataframe tbody tr th {\n",
       "        vertical-align: top;\n",
       "    }\n",
       "\n",
       "    .dataframe thead th {\n",
       "        text-align: right;\n",
       "    }\n",
       "</style>\n",
       "<table border=\"1\" class=\"dataframe\">\n",
       "  <thead>\n",
       "    <tr style=\"text-align: right;\">\n",
       "      <th></th>\n",
       "      <th>תמונה 1</th>\n",
       "      <th>תמונה 2</th>\n",
       "      <th>תמונה 3</th>\n",
       "      <th>תמונה 4</th>\n",
       "      <th>תמונה 5</th>\n",
       "      <th>תמונה 6</th>\n",
       "      <th>תמונה 7</th>\n",
       "      <th>תמונה 8</th>\n",
       "      <th>תמונה 9</th>\n",
       "      <th>תמונה 10</th>\n",
       "      <th>תמונה 11</th>\n",
       "      <th>תמונה 12</th>\n",
       "      <th>תמונה 13</th>\n",
       "      <th>תמונה 14</th>\n",
       "    </tr>\n",
       "  </thead>\n",
       "  <tbody>\n",
       "    <tr>\n",
       "      <th>0</th>\n",
       "      <td>ילד יושב ליד שולחן ומביט בכינור המוצב על השולח...</td>\n",
       "      <td>סצנה כפרית עם אישה מחזיקה ספר בחזית. ברקע, גבר...</td>\n",
       "      <td>ילד מצטופף ליד ספה. על הרצפה לידו נמצא חפץ דו-...</td>\n",
       "      <td>אישה אוחזת בכתפיו של גבר שפונה ממנה.</td>\n",
       "      <td>אישה מביטה לתוך חדר מסף דלת.</td>\n",
       "      <td>אישה מבוגרת עומדת במקביל לחלון. מאחוריה גבר צע...</td>\n",
       "      <td>ילדה צעירה יושבת על ספה ומחזיקה בובה בידיה. מא...</td>\n",
       "      <td>ילד צעיר בחזית בוהה ישירות מחוץ לתמונה. ברקע ת...</td>\n",
       "      <td>ארבעה גברים בשדה שוכבים זה מול זה.</td>\n",
       "      <td>אדם אחד מחזיק את ראשו כנגד כתפו של אדם אחר. מי...</td>\n",
       "      <td>אדם עם ידו מורמת עומד מעל ילד השוכב על מיטה בע...</td>\n",
       "      <td>ילד יושב בפתח של בקתת עץ.</td>\n",
       "      <td>צללית של אדם מול חלון</td>\n",
       "      <td>אישה עומדת ליד דלת פתוחה כשיד אחת אוחזת בצד הד...</td>\n",
       "    </tr>\n",
       "  </tbody>\n",
       "</table>\n",
       "</div>"
      ],
      "text/plain": [
       "                                             תמונה 1  \\\n",
       "0  ילד יושב ליד שולחן ומביט בכינור המוצב על השולח...   \n",
       "\n",
       "                                             תמונה 2  \\\n",
       "0  סצנה כפרית עם אישה מחזיקה ספר בחזית. ברקע, גבר...   \n",
       "\n",
       "                                             תמונה 3  \\\n",
       "0  ילד מצטופף ליד ספה. על הרצפה לידו נמצא חפץ דו-...   \n",
       "\n",
       "                                תמונה 4                       תמונה 5  \\\n",
       "0  אישה אוחזת בכתפיו של גבר שפונה ממנה.  אישה מביטה לתוך חדר מסף דלת.   \n",
       "\n",
       "                                             תמונה 6  \\\n",
       "0  אישה מבוגרת עומדת במקביל לחלון. מאחוריה גבר צע...   \n",
       "\n",
       "                                             תמונה 7  \\\n",
       "0  ילדה צעירה יושבת על ספה ומחזיקה בובה בידיה. מא...   \n",
       "\n",
       "                                             תמונה 8  \\\n",
       "0  ילד צעיר בחזית בוהה ישירות מחוץ לתמונה. ברקע ת...   \n",
       "\n",
       "                              תמונה 9  \\\n",
       "0  ארבעה גברים בשדה שוכבים זה מול זה.   \n",
       "\n",
       "                                            תמונה 10  \\\n",
       "0  אדם אחד מחזיק את ראשו כנגד כתפו של אדם אחר. מי...   \n",
       "\n",
       "                                            תמונה 11  \\\n",
       "0  אדם עם ידו מורמת עומד מעל ילד השוכב על מיטה בע...   \n",
       "\n",
       "                    תמונה 12               תמונה 13  \\\n",
       "0  ילד יושב בפתח של בקתת עץ.  צללית של אדם מול חלון   \n",
       "\n",
       "                                            תמונה 14  \n",
       "0  אישה עומדת ליד דלת פתוחה כשיד אחת אוחזת בצד הד...  "
      ]
     },
     "execution_count": 3,
     "metadata": {},
     "output_type": "execute_result"
    }
   ],
   "source": [
    "ground_truth_df = pd.DataFrame([data])\n",
    "ground_truth_df"
   ]
  },
  {
   "cell_type": "code",
   "execution_count": 4,
   "metadata": {
    "pycharm": {
     "name": "#%%\n"
    }
   },
   "outputs": [
    {
     "data": {
      "text/html": [
       "<div>\n",
       "<style scoped>\n",
       "    .dataframe tbody tr th:only-of-type {\n",
       "        vertical-align: middle;\n",
       "    }\n",
       "\n",
       "    .dataframe tbody tr th {\n",
       "        vertical-align: top;\n",
       "    }\n",
       "\n",
       "    .dataframe thead th {\n",
       "        text-align: right;\n",
       "    }\n",
       "</style>\n",
       "<table border=\"1\" class=\"dataframe\">\n",
       "  <thead>\n",
       "    <tr style=\"text-align: right;\">\n",
       "      <th></th>\n",
       "      <th>תמונה 1</th>\n",
       "      <th>תמונה 2</th>\n",
       "      <th>תמונה 3</th>\n",
       "      <th>תמונה 4</th>\n",
       "      <th>תמונה 5</th>\n",
       "      <th>תמונה 6</th>\n",
       "      <th>תמונה 7</th>\n",
       "      <th>תמונה 8</th>\n",
       "      <th>תמונה 9</th>\n",
       "      <th>תמונה 10</th>\n",
       "      <th>תמונה 11</th>\n",
       "      <th>תמונה 12</th>\n",
       "      <th>תמונה 13</th>\n",
       "      <th>תמונה 14</th>\n",
       "      <th>file_name</th>\n",
       "      <th>label</th>\n",
       "    </tr>\n",
       "  </thead>\n",
       "  <tbody>\n",
       "    <tr>\n",
       "      <th>0</th>\n",
       "      <td>0.566962</td>\n",
       "      <td>0.585865</td>\n",
       "      <td>0.654433</td>\n",
       "      <td>0.522563</td>\n",
       "      <td>0.516626</td>\n",
       "      <td>0.628582</td>\n",
       "      <td>0.669026</td>\n",
       "      <td>0.661970</td>\n",
       "      <td>0.587222</td>\n",
       "      <td>0.572410</td>\n",
       "      <td>0.614919</td>\n",
       "      <td>0.600058</td>\n",
       "      <td>0.549366</td>\n",
       "      <td>0.589052</td>\n",
       "      <td>ש16.docx</td>\n",
       "      <td>0</td>\n",
       "    </tr>\n",
       "    <tr>\n",
       "      <th>1</th>\n",
       "      <td>0.525855</td>\n",
       "      <td>0.631806</td>\n",
       "      <td>0.580592</td>\n",
       "      <td>0.549767</td>\n",
       "      <td>0.557294</td>\n",
       "      <td>0.536219</td>\n",
       "      <td>0.681729</td>\n",
       "      <td>0.648934</td>\n",
       "      <td>0.599493</td>\n",
       "      <td>0.605749</td>\n",
       "      <td>0.527505</td>\n",
       "      <td>0.592921</td>\n",
       "      <td>0.519440</td>\n",
       "      <td>0.609815</td>\n",
       "      <td>י20.docx</td>\n",
       "      <td>0</td>\n",
       "    </tr>\n",
       "    <tr>\n",
       "      <th>2</th>\n",
       "      <td>0.542138</td>\n",
       "      <td>0.628878</td>\n",
       "      <td>0.622527</td>\n",
       "      <td>0.510161</td>\n",
       "      <td>0.540841</td>\n",
       "      <td>0.616226</td>\n",
       "      <td>0.648178</td>\n",
       "      <td>0.661125</td>\n",
       "      <td>0.626441</td>\n",
       "      <td>0.633731</td>\n",
       "      <td>0.600327</td>\n",
       "      <td>0.580142</td>\n",
       "      <td>0.526667</td>\n",
       "      <td>0.624867</td>\n",
       "      <td>ש4.docx</td>\n",
       "      <td>0</td>\n",
       "    </tr>\n",
       "    <tr>\n",
       "      <th>3</th>\n",
       "      <td>0.577814</td>\n",
       "      <td>0.577623</td>\n",
       "      <td>0.697502</td>\n",
       "      <td>0.492824</td>\n",
       "      <td>0.459957</td>\n",
       "      <td>0.580962</td>\n",
       "      <td>0.602264</td>\n",
       "      <td>0.627524</td>\n",
       "      <td>0.551496</td>\n",
       "      <td>0.565675</td>\n",
       "      <td>0.540799</td>\n",
       "      <td>0.611534</td>\n",
       "      <td>0.424131</td>\n",
       "      <td>0.544731</td>\n",
       "      <td>י16.docx</td>\n",
       "      <td>0</td>\n",
       "    </tr>\n",
       "    <tr>\n",
       "      <th>4</th>\n",
       "      <td>0.520636</td>\n",
       "      <td>0.515395</td>\n",
       "      <td>0.502712</td>\n",
       "      <td>0.499289</td>\n",
       "      <td>0.498142</td>\n",
       "      <td>0.578297</td>\n",
       "      <td>0.633887</td>\n",
       "      <td>0.670567</td>\n",
       "      <td>0.551784</td>\n",
       "      <td>0.614365</td>\n",
       "      <td>0.550647</td>\n",
       "      <td>0.596818</td>\n",
       "      <td>0.517766</td>\n",
       "      <td>0.585009</td>\n",
       "      <td>ש20.docx</td>\n",
       "      <td>0</td>\n",
       "    </tr>\n",
       "  </tbody>\n",
       "</table>\n",
       "</div>"
      ],
      "text/plain": [
       "    תמונה 1   תמונה 2   תמונה 3   תמונה 4   תמונה 5   תמונה 6   תמונה 7  \\\n",
       "0  0.566962  0.585865  0.654433  0.522563  0.516626  0.628582  0.669026   \n",
       "1  0.525855  0.631806  0.580592  0.549767  0.557294  0.536219  0.681729   \n",
       "2  0.542138  0.628878  0.622527  0.510161  0.540841  0.616226  0.648178   \n",
       "3  0.577814  0.577623  0.697502  0.492824  0.459957  0.580962  0.602264   \n",
       "4  0.520636  0.515395  0.502712  0.499289  0.498142  0.578297  0.633887   \n",
       "\n",
       "    תמונה 8   תמונה 9  תמונה 10  תמונה 11  תמונה 12  תמונה 13  תמונה 14  \\\n",
       "0  0.661970  0.587222  0.572410  0.614919  0.600058  0.549366  0.589052   \n",
       "1  0.648934  0.599493  0.605749  0.527505  0.592921  0.519440  0.609815   \n",
       "2  0.661125  0.626441  0.633731  0.600327  0.580142  0.526667  0.624867   \n",
       "3  0.627524  0.551496  0.565675  0.540799  0.611534  0.424131  0.544731   \n",
       "4  0.670567  0.551784  0.614365  0.550647  0.596818  0.517766  0.585009   \n",
       "\n",
       "  file_name  label  \n",
       "0  ש16.docx      0  \n",
       "1  י20.docx      0  \n",
       "2   ש4.docx      0  \n",
       "3  י16.docx      0  \n",
       "4  ש20.docx      0  "
      ]
     },
     "execution_count": 4,
     "metadata": {},
     "output_type": "execute_result"
    }
   ],
   "source": [
    "distances_df.head()"
   ]
  },
  {
   "cell_type": "code",
   "execution_count": null,
   "metadata": {
    "pycharm": {
     "name": "#%%\n"
    }
   },
   "outputs": [],
   "source": []
  },
  {
   "cell_type": "code",
   "execution_count": null,
   "outputs": [],
   "source": [
    "df = distances_df.copy()\n",
    "\n",
    "# Create a grid of boxplots\n",
    "features = df.columns.drop(['label', 'file_name'])  # Exclude the 'label' column\n",
    "\n",
    "# Determine the number of rows and columns for the grid\n",
    "num_features = len(features)\n",
    "num_cols = 2\n",
    "num_rows = (num_features + 1) // num_cols\n",
    "\n",
    "# Increase the figure size for better visibility\n",
    "fig, axes = plt.subplots(num_rows, num_cols, figsize=(15, num_rows * 5))\n",
    "\n",
    "# Flatten axes array if there are multiple rows\n",
    "axes = axes.flatten()\n",
    "\n",
    "# Plot each feature in a separate subplot\n",
    "for i, feature in enumerate(features):\n",
    "    sns.boxplot(x='label', y=feature, data=df, ax=axes[i])\n",
    "    axes[i].set_title(f'Boxplot of {feature}', fontsize=14)\n",
    "    axes[i].set_xlabel('Label', fontsize=12)\n",
    "    axes[i].set_ylabel(feature, fontsize=12)\n",
    "\n",
    "# Remove any empty subplots (if the number of features is odd)\n",
    "for j in range(i + 1, len(axes)):\n",
    "    fig.delaxes(axes[j])\n",
    "\n",
    "# Adjust layout to prevent overlap\n",
    "plt.tight_layout()\n",
    "plt.show()\n"
   ],
   "metadata": {
    "collapsed": false,
    "pycharm": {
     "name": "#%%\n"
    }
   }
  },
  {
   "cell_type": "markdown",
   "source": [
    "# t-test"
   ],
   "metadata": {
    "collapsed": false,
    "pycharm": {
     "name": "#%% md\n"
    }
   }
  },
  {
   "cell_type": "code",
   "execution_count": null,
   "outputs": [],
   "source": [
    "# Significance level\n",
    "alpha = 0.05\n",
    "successful_columns_ttest = []\n",
    "# Loop through each column and perform t-test\n",
    "for col in distances_df.columns[:-2]:  # Exclude 'label'\n",
    "    group_0 = distances_df[distances_df['label'] == 0][col]\n",
    "    group_1 = distances_df[distances_df['label'] == 1][col]\n",
    "    \n",
    "    # Perform t-test\n",
    "    t_stat, p_val = ttest_ind(group_0, group_1, equal_var=False)\n",
    "    \n",
    "    # Hypothesis and conclusion\n",
    "    print(f\"\\nTesting {col}:\")\n",
    "    print(\"Null Hypothesis: The means of the two groups (label = 0 and label = 1) are equal.\")\n",
    "    print(\"Alternative Hypothesis: The means of the two groups are different.\")\n",
    "    \n",
    "    print(f\"T-statistic: {t_stat:.4f}, P-value: {p_val:.4f}\")\n",
    "    \n",
    "    if p_val < alpha:\n",
    "        print(f\"Result: Reject the null hypothesis (p < {alpha}). The feature '{col}' has a statistically significant effect on the label.\\n\")\n",
    "        successful_columns_ttest.append(col)  # Save successful column name\n",
    "    else:\n",
    "        print(f\"Result: Fail to reject the null hypothesis (p >= {alpha}). The feature '{col}' does not have a statistically significant effect on the label.\\n\")\n",
    "\n",
    "print(\"\\nSuccessful Columns:\", successful_columns_ttest)"
   ],
   "metadata": {
    "collapsed": false,
    "pycharm": {
     "name": "#%%\n"
    }
   }
  },
  {
   "cell_type": "markdown",
   "source": [
    "# Logistic Regression"
   ],
   "metadata": {
    "collapsed": false,
    "pycharm": {
     "name": "#%% md\n"
    }
   }
  },
  {
   "cell_type": "code",
   "execution_count": null,
   "outputs": [],
   "source": [
    "import statsmodels.api as sm\n",
    "\n",
    "# Logistic Regression\n",
    "X = distances_df.drop(columns=['label', 'file_name'])\n",
    "y = distances_df['label']\n",
    "\n",
    "# Add a constant (intercept) to the model\n",
    "X = sm.add_constant(X)\n",
    "\n",
    "# Split data into training and testing sets (80% train, 20% test)\n",
    "X_train, X_test, y_train, y_test = train_test_split(X, y, test_size=0.3, random_state=42)\n",
    "\n",
    "# Train the model on the training set\n",
    "model = sm.Logit(y_train, X_train).fit()\n",
    "\n",
    "\n",
    "# Hypotheses and significance tracking\n",
    "alpha = 0.15\n",
    "successful_columns_logistic_regression = []  \n",
    "\n",
    "print(\"\\nHypotheses for Logistic Regression:\")\n",
    "print(\"Null Hypothesis: The coefficient of a feature is zero (no effect on the label).\")\n",
    "print(\"Alternative Hypothesis: The coefficient of a feature is not zero (the feature affects the label).\")\n",
    "\n",
    "# Extract p-values from the model summary\n",
    "p_values = model.pvalues\n",
    "\n",
    "for feature, p_val in p_values.items():\n",
    "    print(f\"\\nFeature: {feature}, P-value: {p_val:.4f}\")\n",
    "    \n",
    "    if p_val < alpha:\n",
    "        print(f\"Result: Reject the null hypothesis (p < {alpha}). The feature '{feature}' has a statistically significant effect on the label.\")\n",
    "        successful_columns_logistic_regression.append(feature)  # Save successful column name\n",
    "    else:\n",
    "        print(f\"Result: Fail to reject the null hypothesis (p >= {alpha}). The feature '{feature}' does not have a statistically significant effect on the label.\")\n",
    "\n",
    "print(\"\\nSuccessful Columns:\", successful_columns_logistic_regression)"
   ],
   "metadata": {
    "collapsed": false,
    "pycharm": {
     "name": "#%%\n"
    }
   }
  },
  {
   "cell_type": "code",
   "execution_count": null,
   "outputs": [],
   "source": [
    "# Print the model summary\n",
    "print(model.summary())\n"
   ],
   "metadata": {
    "collapsed": false,
    "pycharm": {
     "name": "#%%\n"
    }
   }
  },
  {
   "cell_type": "code",
   "execution_count": null,
   "outputs": [],
   "source": [
    "# Extracting model coefficients\n",
    "print(\"\\nModel Coefficients:\")\n",
    "print(model.params)"
   ],
   "metadata": {
    "collapsed": false,
    "pycharm": {
     "name": "#%%\n"
    }
   }
  },
  {
   "cell_type": "code",
   "execution_count": null,
   "outputs": [],
   "source": [
    "# Confidence intervals of coefficients\n",
    "print(\"\\nConfidence Intervals for Coefficients:\")\n",
    "print(model.conf_int())\n"
   ],
   "metadata": {
    "collapsed": false,
    "pycharm": {
     "name": "#%%\n"
    }
   }
  },
  {
   "cell_type": "code",
   "execution_count": null,
   "outputs": [],
   "source": [
    "\n",
    "# Model performance on the training set\n",
    "print(\"\\n--- Training Set Performance ---\")\n",
    "\n",
    "# Training set predictions and evaluation\n",
    "train_pred_probs = model.predict(X_train)\n",
    "train_pred = (train_pred_probs > 0.5).astype(int)\n",
    "\n",
    "# Classification report for training set\n",
    "print(\"\\nTraining Set Classification Report:\")\n",
    "print(classification_report(y_train, train_pred))\n",
    "\n",
    "# Model performance on the test set\n",
    "print(\"\\n--- Test Set Performance ---\")\n",
    "\n",
    "# Test set predictions and evaluation\n",
    "test_pred_probs = model.predict(X_test)\n",
    "test_pred = (test_pred_probs > 0.5).astype(int)\n",
    "\n",
    "# Classification report for test set\n",
    "print(\"\\nTest Set Classification Report:\")\n",
    "print(classification_report(y_test, test_pred))\n",
    "\n"
   ],
   "metadata": {
    "collapsed": false,
    "pycharm": {
     "name": "#%%\n"
    }
   }
  },
  {
   "cell_type": "code",
   "execution_count": null,
   "outputs": [],
   "source": [
    "\n",
    "# Test Set: Confusion Matrix\n",
    "conf_matrix = confusion_matrix(y_test, test_pred)\n",
    "sns.heatmap(conf_matrix, annot=True, fmt='d', cmap='Blues', cbar=False)\n",
    "plt.title('Test Set Confusion Matrix')\n",
    "plt.ylabel('Actual')\n",
    "plt.xlabel('Predicted')\n",
    "plt.show()\n",
    "\n",
    "\n"
   ],
   "metadata": {
    "collapsed": false,
    "pycharm": {
     "name": "#%%\n"
    }
   }
  },
  {
   "cell_type": "code",
   "execution_count": null,
   "outputs": [],
   "source": [
    "# Test Set: ROC Curve\n",
    "fpr, tpr, thresholds = roc_curve(y_test, test_pred_probs)\n",
    "roc_auc = roc_auc_score(y_test, test_pred_probs)\n",
    "\n",
    "plt.plot(fpr, tpr, label=f'ROC curve (area = {roc_auc:.2f})')\n",
    "plt.plot([0, 1], [0, 1], 'k--')\n",
    "plt.xlim([0.0, 1.0])\n",
    "plt.ylim([0.0, 1.05])\n",
    "plt.xlabel('False Positive Rate')\n",
    "plt.ylabel('True Positive Rate')\n",
    "plt.title('Test Set Receiver Operating Characteristic (ROC) Curve')\n",
    "plt.legend(loc='lower right')\n",
    "plt.show()"
   ],
   "metadata": {
    "collapsed": false,
    "pycharm": {
     "name": "#%%\n"
    }
   }
  },
  {
   "cell_type": "code",
   "execution_count": null,
   "outputs": [],
   "source": [
    "# Plot Coefficients\n",
    "coef_df = pd.DataFrame({\n",
    "    'Feature': model.params.index,\n",
    "    'Coefficient': model.params.values\n",
    "})\n",
    "\n",
    "plt.figure(figsize=(8, 6))\n",
    "sns.barplot(x='Coefficient', y='Feature', data=coef_df)\n",
    "plt.title('Logistic Regression Coefficients')\n",
    "plt.show()"
   ],
   "metadata": {
    "collapsed": false,
    "pycharm": {
     "name": "#%%\n"
    }
   }
  },
  {
   "cell_type": "code",
   "execution_count": null,
   "outputs": [],
   "source": [],
   "metadata": {
    "collapsed": false,
    "pycharm": {
     "name": "#%%\n"
    }
   }
  },
  {
   "cell_type": "markdown",
   "source": [
    "# correlation matrix"
   ],
   "metadata": {
    "collapsed": false,
    "pycharm": {
     "name": "#%% md\n"
    }
   }
  },
  {
   "cell_type": "code",
   "execution_count": null,
   "outputs": [],
   "source": [
    "# Compute correlation matrix (excluding 'file_name' and 'label' if it's in the DataFrame)\n",
    "corr_matrix = distances_df.drop(columns=[\"file_name\"]).corr()\n",
    "\n",
    "print(\"Hypothesis for Correlation Test:\")\n",
    "print(\"Null Hypothesis: There is no correlation between the feature and the label.\")\n",
    "print(\"Alternative Hypothesis: There is a correlation between the feature and the label.\")\n",
    "\n",
    "# Extract correlation with label\n",
    "corr_with_label = corr_matrix['label'].sort_values(ascending=False)\n",
    "\n",
    "# Threshold for moderate correlation\n",
    "threshold = 0.3\n",
    "\n",
    "# List to store the names of features with significant correlation\n",
    "significant_features_corr_matrix = []\n",
    "\n",
    "# Loop over correlations\n",
    "for feature, corr_value in corr_with_label.items():\n",
    "    if feature == 'label':\n",
    "        continue  # Skip self-correlation\n",
    "    \n",
    "    print(f\"\\nFeature: {feature}, Correlation: {corr_value:.4f}\")\n",
    "    \n",
    "    # Hypothesis test result\n",
    "    if abs(corr_value) > threshold:\n",
    "        print(f\"Result: Reject the null hypothesis. There is a significant correlation between {feature} and the label.\")\n",
    "        significant_features_corr_matrix.append(feature)\n",
    "    else:\n",
    "        print(f\"Result: Fail to reject the null hypothesis. There is no significant correlation between {feature} and the label.\")\n",
    "\n",
    "print(f\"\\nSignificant Features: {significant_features_corr_matrix}\")\n",
    "\n",
    "# Plotting the heatmap\n",
    "plt.figure(figsize=(12, 10))\n",
    "sns.heatmap(corr_matrix, annot=True, fmt=\".2f\", cmap=\"coolwarm\", vmin=-1, vmax=1)\n",
    "plt.title(\"Correlation Heatmap\")\n",
    "plt.show()\n"
   ],
   "metadata": {
    "collapsed": false,
    "pycharm": {
     "name": "#%%\n"
    }
   }
  },
  {
   "cell_type": "code",
   "execution_count": null,
   "metadata": {
    "pycharm": {
     "name": "#%%\n"
    }
   },
   "outputs": [],
   "source": []
  },
  {
   "cell_type": "markdown",
   "metadata": {
    "pycharm": {
     "name": "#%% md\n"
    }
   },
   "source": [
    "# columns_to_evaluate"
   ]
  },
  {
   "cell_type": "code",
   "execution_count": 23,
   "metadata": {
    "pycharm": {
     "name": "#%%\n"
    }
   },
   "outputs": [
    {
     "data": {
      "text/plain": [
       "['תמונה 1',\n",
       " 'תמונה 4',\n",
       " 'תמונה 6',\n",
       " 'תמונה 7',\n",
       " 'תמונה 8',\n",
       " 'תמונה 9',\n",
       " 'תמונה 10',\n",
       " 'תמונה 12',\n",
       " 'תמונה 14']"
      ]
     },
     "execution_count": 23,
     "metadata": {},
     "output_type": "execute_result"
    }
   ],
   "source": [
    "successful_columns_ttest\n"
   ]
  },
  {
   "cell_type": "code",
   "execution_count": 24,
   "metadata": {
    "pycharm": {
     "name": "#%%\n"
    }
   },
   "outputs": [
    {
     "data": {
      "text/plain": [
       "['תמונה 2', 'תמונה 4', 'תמונה 7', 'תמונה 9', 'תמונה 11', 'תמונה 13']"
      ]
     },
     "execution_count": 24,
     "metadata": {},
     "output_type": "execute_result"
    }
   ],
   "source": [
    "successful_columns_logistic_regression"
   ]
  },
  {
   "cell_type": "code",
   "execution_count": 25,
   "metadata": {
    "pycharm": {
     "name": "#%%\n"
    }
   },
   "outputs": [
    {
     "data": {
      "text/plain": [
       "['תמונה 9', 'תמונה 14', 'תמונה 6', 'תמונה 4', 'תמונה 8', 'תמונה 7']"
      ]
     },
     "execution_count": 25,
     "metadata": {},
     "output_type": "execute_result"
    }
   ],
   "source": [
    "significant_features_corr_matrix"
   ]
  },
  {
   "cell_type": "code",
   "execution_count": 26,
   "metadata": {
    "pycharm": {
     "name": "#%%\n"
    }
   },
   "outputs": [
    {
     "name": "stdout",
     "output_type": "stream",
     "text": [
      "          ttest_success logistic_regression_success correlation_matrix_success\n",
      "תמונה 1             Yes                          No                         No\n",
      "תמונה 2              No                         Yes                         No\n",
      "תמונה 3              No                          No                         No\n",
      "תמונה 4             Yes                         Yes                        Yes\n",
      "תמונה 5              No                          No                         No\n",
      "תמונה 6             Yes                          No                        Yes\n",
      "תמונה 7             Yes                         Yes                        Yes\n",
      "תמונה 8             Yes                          No                        Yes\n",
      "תמונה 9             Yes                         Yes                        Yes\n",
      "תמונה 10            Yes                          No                         No\n",
      "תמונה 11             No                         Yes                         No\n",
      "תמונה 12            Yes                          No                         No\n",
      "תמונה 13             No                         Yes                         No\n",
      "תמונה 14            Yes                          No                        Yes\n",
      "file_name            No                          No                         No\n"
     ]
    }
   ],
   "source": [
    "\n",
    "\n",
    "# Get all the columns except 'label'\n",
    "columns_to_evaluate = distances_df.columns.drop('label')\n",
    "\n",
    "# Create the summary DataFrame for those columns\n",
    "summary_df = pd.DataFrame(index=columns_to_evaluate)\n",
    "\n",
    "# Fill in results for each test\n",
    "summary_df['ttest_success'] = summary_df.index.isin(successful_columns_ttest)\n",
    "summary_df['logistic_regression_success'] = summary_df.index.isin(successful_columns_logistic_regression)\n",
    "summary_df['correlation_matrix_success'] = summary_df.index.isin(significant_features_corr_matrix)\n",
    "\n",
    "# Convert boolean values to 'Yes'/'No' for better readability\n",
    "summary_df = summary_df.replace({True: 'Yes', False: 'No'})\n",
    "\n",
    "print(summary_df)"
   ]
  },
  {
   "cell_type": "code",
   "execution_count": 27,
   "metadata": {
    "pycharm": {
     "name": "#%%\n"
    }
   },
   "outputs": [
    {
     "name": "stderr",
     "output_type": "stream",
     "text": [
      "/var/folders/b1/frm8p4wx2v1_r2r5qhspvnm80000gn/T/ipykernel_2746/3405560470.py:2: FutureWarning: Downcasting behavior in `replace` is deprecated and will be removed in a future version. To retain the old behavior, explicitly call `result.infer_objects(copy=False)`. To opt-in to the future behavior, set `pd.set_option('future.no_silent_downcasting', True)`\n",
      "  plot_df = summary_df.replace({'Yes': 1, 'No': 0})\n"
     ]
    },
    {
     "data": {
      "text/plain": [
       "Text(70.58159722222221, 0.5, 'Features')"
      ]
     },
     "execution_count": 27,
     "metadata": {},
     "output_type": "execute_result"
    },
    {
     "data": {
      "image/png": "[encoded data removed]",
      "text/plain": [
       "<Figure size 800x400 with 1 Axes>"
      ]
     },
     "metadata": {},
     "output_type": "display_data"
    }
   ],
   "source": [
    "# Convert 'Yes'/'No' to 1 and 0 for better plotting\n",
    "plot_df = summary_df.replace({'Yes': 1, 'No': 0})\n",
    "\n",
    "# Create the heatmap\n",
    "plt.figure(figsize=(8, 4))\n",
    "sns.heatmap(plot_df, annot=True, cmap='Blues', cbar=False, linewidths=0.5, linecolor='black')\n",
    "\n",
    "# Add labels and title\n",
    "plt.title('Success in Tests for Each Feature', fontsize=16)\n",
    "plt.xlabel('Test Type')\n",
    "plt.ylabel('Features')"
   ]
  },
  {
   "cell_type": "code",
   "execution_count": null,
   "metadata": {
    "pycharm": {
     "name": "#%%\n"
    }
   },
   "outputs": [],
   "source": []
  },
  {
   "cell_type": "code",
   "execution_count": null,
   "metadata": {
    "pycharm": {
     "name": "#%%\n"
    }
   },
   "outputs": [],
   "source": []
  },
  {
   "cell_type": "code",
   "execution_count": null,
   "metadata": {
    "pycharm": {
     "name": "#%%\n"
    }
   },
   "outputs": [],
   "source": []
  }
 ],
 "metadata": {
  "kernelspec": {
   "display_name": "Python 3 (ipykernel)",
   "language": "python",
   "name": "python3"
  },
  "language_info": {
   "codemirror_mode": {
    "name": "ipython",
    "version": 3
   },
   "file_extension": ".py",
   "mimetype": "text/x-python",
   "name": "python",
   "nbconvert_exporter": "python",
   "pygments_lexer": "ipython3",
   "version": "3.9.19"
  }
 },
 "nbformat": 4,
 "nbformat_minor": 4
}